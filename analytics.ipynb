{
 "cells": [
  {
   "cell_type": "markdown",
   "source": [
    "#### Importing libaries"
   ],
   "metadata": {
    "collapsed": false
   }
  },
  {
   "cell_type": "code",
   "execution_count": null,
   "outputs": [],
   "source": [
    "import numpy as np\n",
    "import pandas as pd #import panda library\n",
    "from matplotlib import pyplot as plt #import matplotlib library\n",
    "import seaborn as sns #import seaborn library\n",
    "\n",
    "plt.style.use('seaborn-white') #setting the plt.style use"
   ],
   "metadata": {
    "collapsed": false,
    "pycharm": {
     "name": "#%%\n"
    }
   }
  },
  {
   "cell_type": "markdown",
   "source": [
    "## Create pandas series:"
   ],
   "metadata": {
    "collapsed": false
   }
  },
  {
   "cell_type": "code",
   "execution_count": 1,
   "outputs": [
    {
     "ename": "NameError",
     "evalue": "name 'pd' is not defined",
     "output_type": "error",
     "traceback": [
      "\u001B[0;31m---------------------------------------------------------------------------\u001B[0m",
      "\u001B[0;31mNameError\u001B[0m                                 Traceback (most recent call last)",
      "\u001B[0;32m/var/folders/gx/y3734m8x70n5_23hkk1s2h_80000gp/T/ipykernel_1999/1837738446.py\u001B[0m in \u001B[0;36m<module>\u001B[0;34m\u001B[0m\n\u001B[0;32m----> 1\u001B[0;31m \u001B[0mhospital\u001B[0m \u001B[0;34m=\u001B[0m \u001B[0mpd\u001B[0m\u001B[0;34m.\u001B[0m\u001B[0mSeries\u001B[0m\u001B[0;34m(\u001B[0m\u001B[0;34m[\u001B[0m\u001B[0;34m'Aker Univercity'\u001B[0m\u001B[0;34m,\u001B[0m \u001B[0;34m'Rikshospitalet'\u001B[0m\u001B[0;34m,\u001B[0m\u001B[0;34m'Ullevål Univercity'\u001B[0m\u001B[0;34m]\u001B[0m\u001B[0;34m,\u001B[0m \u001B[0mname\u001B[0m\u001B[0;34m=\u001B[0m\u001B[0;34m'Hospital name'\u001B[0m\u001B[0;34m)\u001B[0m\u001B[0;34m\u001B[0m\u001B[0;34m\u001B[0m\u001B[0m\n\u001B[0m\u001B[1;32m      2\u001B[0m \u001B[0mlocation\u001B[0m \u001B[0;34m=\u001B[0m \u001B[0mpd\u001B[0m\u001B[0;34m.\u001B[0m\u001B[0mSeries\u001B[0m\u001B[0;34m(\u001B[0m\u001B[0;34m[\u001B[0m\u001B[0;34m'Oslo, Norway'\u001B[0m\u001B[0;34m,\u001B[0m \u001B[0;34m'Oslo, Norway'\u001B[0m\u001B[0;34m,\u001B[0m \u001B[0;34m'Oslo, Norway'\u001B[0m\u001B[0;34m]\u001B[0m\u001B[0;34m,\u001B[0m \u001B[0mname\u001B[0m\u001B[0;34m=\u001B[0m\u001B[0;34m'Major location'\u001B[0m\u001B[0;34m)\u001B[0m\u001B[0;34m\u001B[0m\u001B[0;34m\u001B[0m\u001B[0m\n\u001B[1;32m      3\u001B[0m \u001B[0mcampuses\u001B[0m \u001B[0;34m=\u001B[0m \u001B[0mpd\u001B[0m\u001B[0;34m.\u001B[0m\u001B[0mSeries\u001B[0m\u001B[0;34m(\u001B[0m\u001B[0;34m[\u001B[0m\u001B[0;34m'Aker'\u001B[0m\u001B[0;34m,\u001B[0m \u001B[0;34m'Rikshospitalet'\u001B[0m\u001B[0;34m,\u001B[0m \u001B[0;34m'Ullevål'\u001B[0m\u001B[0;34m]\u001B[0m\u001B[0;34m,\u001B[0m \u001B[0mname\u001B[0m\u001B[0;34m=\u001B[0m\u001B[0;34m'Main campuses'\u001B[0m\u001B[0;34m)\u001B[0m\u001B[0;34m\u001B[0m\u001B[0;34m\u001B[0m\u001B[0m\n\u001B[1;32m      4\u001B[0m descript = pd.Series(\n\u001B[1;32m      5\u001B[0m     ['Aker University Hospital was a highly specialized metropolitan hospital and companies had extensive local and central hospital functions and regional functions. Within several areas, the hospital also had the national functions and the competence center.',\n",
      "\u001B[0;31mNameError\u001B[0m: name 'pd' is not defined"
     ]
    }
   ],
   "source": [
    "hospital = pd.Series(['Aker Univercity', 'Rikshospitalet','Ullevål Univercity'], name='Hospital name')\n",
    "location = pd.Series(['Oslo, Norway', 'Oslo, Norway', 'Oslo, Norway'], name='Major location')\n",
    "campuses = pd.Series(['Aker', 'Rikshospitalet', 'Ullevål'], name='Main campuses')\n",
    "descript = pd.Series(\n",
    "    ['Aker University Hospital was a highly specialized metropolitan hospital and companies had extensive local and central hospital functions and regional functions. Within several areas, the hospital also had the national functions and the competence center.',\n",
    "                       'Rikshospitalet covers the whole country in various fields, including organ and bone marrow transplants, advanced neurosurgery, and treatment of children with congenital malformations. ',\n",
    "                    'Ullevål is a Level I trauma center and includes patient treatment, research, teaching and administration activities.'], name='Description')\n",
    "opened = pd.Series([1895, 1826, 1887], name='Opened')"
   ],
   "metadata": {
    "collapsed": false,
    "pycharm": {
     "name": "#%%\n"
    }
   }
  },
  {
   "cell_type": "markdown",
   "source": [
    "### Concatinate multiple series into frame for a better overview:"
   ],
   "metadata": {
    "collapsed": false
   }
  },
  {
   "cell_type": "code",
   "execution_count": null,
   "outputs": [],
   "source": [
    "frame = pd.concat([hospital,\n",
    "                   location,\n",
    "                   campuses,\n",
    "                   descript,\n",
    "                   opened],axis=1)\n",
    "frame.head()"
   ],
   "metadata": {
    "collapsed": false,
    "pycharm": {
     "name": "#%%\n"
    }
   }
  },
  {
   "cell_type": "markdown",
   "source": [
    "### Choose 16 hospitals and create 16 Series including information:\n",
    "#### -Making np.arrays out of the information that we´ll convert to a pd.Series below:"
   ],
   "metadata": {
    "collapsed": false
   }
  },
  {
   "cell_type": "code",
   "execution_count": null,
   "outputs": [],
   "source": [
    "name = np.array(['Aker Univercity',\n",
    "                 'Rikshospitalet',\n",
    "                 'Ullevål Univercity',\n",
    "                 'Elverum Hospital',\n",
    "                 'Gjøvik Hospital',\n",
    "                 'Hamar Hospital',\n",
    "                 'Lillehammer Hospital',\n",
    "                 'Sørlandet Hospital Arendal',\n",
    "                 'Sørlandet Hospital Flekkefjord',\n",
    "                 'Sørlandet Hospital Kristiansand',\n",
    "                 'Bærum Hospital',\n",
    "                 'Drammen Hospital',\n",
    "                 'Kongsberg Hospital',\n",
    "                 'Ringerike Hospital',\n",
    "                 'Hammerfest Hospital',\n",
    "                 'Kirkenes Hospital'\n",
    "                 ])"
   ],
   "metadata": {
    "collapsed": false,
    "pycharm": {
     "name": "#%%\n"
    }
   }
  },
  {
   "cell_type": "code",
   "execution_count": null,
   "outputs": [],
   "source": [
    "region = np.array(['Oslo',\n",
    "                   'Oslo',\n",
    "                   'Oslo',\n",
    "                   'Innlandet',\n",
    "                   'Innlandet',\n",
    "                   'Innlandet',\n",
    "                   'Innlandet',\n",
    "                   'Southern Norway',\n",
    "                   'Southern Norway',\n",
    "                   'Southern Norway',\n",
    "                   'Vestre Viken',\n",
    "                   'Vestre Viken',\n",
    "                   'Vestre Viken',\n",
    "                   'Vestre Viken',\n",
    "                   'Finnmark',\n",
    "                   'Finnmark'\n",
    "                    ])"
   ],
   "metadata": {
    "collapsed": false,
    "pycharm": {
     "name": "#%%\n"
    }
   }
  },
  {
   "cell_type": "code",
   "execution_count": null,
   "outputs": [],
   "source": [
    "location = np.array(['Oslo',\n",
    "                     'Oslo',\n",
    "                     'Oslo',\n",
    "                     'Elverum',\n",
    "                     'Gjøvik',\n",
    "                     'Hamar',\n",
    "                     'Lillehammer',\n",
    "                     'Arendal',\n",
    "                     'Flekkefjord',\n",
    "                     'Kristiansand',\n",
    "                     'Bærum',\n",
    "                     'Drammen',\n",
    "                     'Kongsberg',\n",
    "                     'Ringerike',\n",
    "                     'Hammerfest',\n",
    "                     'Kirkenes'\n",
    "                     ])"
   ],
   "metadata": {
    "collapsed": false,
    "pycharm": {
     "name": "#%%\n"
    }
   }
  },
  {
   "cell_type": "code",
   "execution_count": null,
   "outputs": [],
   "source": [
    "open = np.array([1895,\n",
    "                 1826,\n",
    "                 1887,\n",
    "                 1878,\n",
    "                 1925,\n",
    "                 1907,\n",
    "                 1878,\n",
    "                 1920,\n",
    "                 1953,\n",
    "                 2001,\n",
    "                 1924,\n",
    "                 1887,\n",
    "                 1738,\n",
    "                 1965,\n",
    "                 1852,\n",
    "                 1955,\n",
    "                   ])"
   ],
   "metadata": {
    "collapsed": false,
    "pycharm": {
     "name": "#%%\n"
    }
   }
  },
  {
   "cell_type": "markdown",
   "source": [
    "### Confirming data type (np.array)"
   ],
   "metadata": {
    "collapsed": false
   }
  },
  {
   "cell_type": "code",
   "execution_count": null,
   "outputs": [],
   "source": [
    "print(type(name))\n",
    "print(type(region))\n",
    "print(type(location))\n",
    "print(type(open))"
   ],
   "metadata": {
    "collapsed": false,
    "pycharm": {
     "name": "#%%\n"
    }
   }
  },
  {
   "cell_type": "markdown",
   "source": [
    "### Converting np.arrays to pandas (series)"
   ],
   "metadata": {
    "collapsed": false
   }
  },
  {
   "cell_type": "code",
   "execution_count": null,
   "outputs": [],
   "source": [
    "s = pd.Series(name, name='Name')\n",
    "s1 = pd.Series(region, name='Region')\n",
    "s2 = pd.Series(location, name='Location')\n",
    "s3 = pd.Series(open, name='Opened')"
   ],
   "metadata": {
    "collapsed": false,
    "pycharm": {
     "name": "#%%\n"
    }
   }
  },
  {
   "cell_type": "markdown",
   "source": [
    "### Confirming new data type (pd.Series)"
   ],
   "metadata": {
    "collapsed": false
   }
  },
  {
   "cell_type": "code",
   "execution_count": null,
   "outputs": [],
   "source": [
    "print(type(s))\n",
    "print(type(s1))\n",
    "print(type(s2))\n",
    "print(type(s3))"
   ],
   "metadata": {
    "collapsed": false,
    "pycharm": {
     "name": "#%%\n"
    }
   }
  },
  {
   "cell_type": "markdown",
   "source": [
    "### Concatinate\n",
    "#### -We manipulate our data by the concatinate function which adds the pd.series above into to the dataframe"
   ],
   "metadata": {
    "collapsed": false
   }
  },
  {
   "cell_type": "code",
   "execution_count": null,
   "outputs": [],
   "source": [
    "dataframe = pd.concat([s,\n",
    "                       s1,\n",
    "                       s2,\n",
    "                       s3,\n",
    "                       ],axis=1)\n",
    "dataframe"
   ],
   "metadata": {
    "collapsed": false,
    "pycharm": {
     "name": "#%%\n"
    }
   }
  },
  {
   "cell_type": "markdown",
   "source": [
    "#### Generating a list that is to be converted as our new column:"
   ],
   "metadata": {
    "collapsed": false
   }
  },
  {
   "cell_type": "code",
   "execution_count": null,
   "outputs": [],
   "source": [
    "Reg_Auth = ['Southern and Eastern Norway',\n",
    "            'Southern and Eastern Norway',\n",
    "            'Southern and Eastern Norway',\n",
    "            'Southern and Eastern Norway',\n",
    "            'Southern and Eastern Norway',\n",
    "            'Southern and Eastern Norway',\n",
    "            'Southern and Eastern Norway',\n",
    "            'Southern and Eastern Norway',\n",
    "            'Southern and Eastern Norway',\n",
    "            'Southern and Eastern Norway',\n",
    "            'Southern and Eastern Norway',\n",
    "            'Southern and Eastern Norway',\n",
    "            'Southern and Eastern Norway',\n",
    "            'Southern and Eastern Norway',\n",
    "            'Northern Norway',\n",
    "            'Northern Norway'\n",
    "            ]\n",
    "Reg_Auth"
   ],
   "metadata": {
    "collapsed": false,
    "pycharm": {
     "name": "#%%\n"
    }
   }
  },
  {
   "cell_type": "markdown",
   "source": [
    "### Convert our new column including: 'Regional Health Authority'"
   ],
   "metadata": {
    "collapsed": false
   }
  },
  {
   "cell_type": "code",
   "execution_count": null,
   "outputs": [],
   "source": [
    "#assigning the corresponding values in each row\n",
    "\n",
    "dataframe['Regional Health Authority'] = Reg_Auth\n",
    "dataframe"
   ],
   "metadata": {
    "collapsed": false,
    "pycharm": {
     "name": "#%%\n"
    }
   }
  },
  {
   "cell_type": "markdown",
   "source": [
    "#### Remove, clean and transform the data set:"
   ],
   "metadata": {
    "collapsed": false
   }
  },
  {
   "cell_type": "code",
   "execution_count": null,
   "outputs": [],
   "source": [
    "updated = dataframe.drop(['Name', 'Opened', 'Location', 'Regional Health Authority'],\n",
    "                         axis=1,\n",
    "                         inplace=True) #dropping columns not needed"
   ],
   "metadata": {
    "collapsed": false,
    "pycharm": {
     "name": "#%%\n"
    }
   }
  },
  {
   "cell_type": "code",
   "execution_count": null,
   "outputs": [],
   "source": [
    "updated = dataframe['Region'].replace(['Vestre Viken',\n",
    "                                       'Finnmark'],\n",
    "                                      ['Viken',\n",
    "                                       'Troms & Finnmark'], inplace=True)\n",
    "#Changed our column names"
   ],
   "metadata": {
    "collapsed": false,
    "pycharm": {
     "name": "#%%\n"
    }
   }
  },
  {
   "cell_type": "code",
   "execution_count": null,
   "outputs": [],
   "source": [
    "updated = dataframe.drop_duplicates(ignore_index=True)\n",
    "#removing duplicates"
   ],
   "metadata": {
    "collapsed": false,
    "pycharm": {
     "name": "#%%\n"
    }
   }
  },
  {
   "cell_type": "code",
   "execution_count": null,
   "outputs": [],
   "source": [
    "updated #our new temporary dataframe"
   ],
   "metadata": {
    "collapsed": false,
    "pycharm": {
     "name": "#%%\n"
    }
   }
  },
  {
   "cell_type": "markdown",
   "source": [
    "# Interesting problem\n",
    "### We want to compare the Covid-19 numbers by 5 specific regions"
   ],
   "metadata": {
    "collapsed": false
   }
  },
  {
   "cell_type": "markdown",
   "source": [
    "##### Making a dictionary to add some new data to our 'updated' dataframe"
   ],
   "metadata": {
    "collapsed": false
   }
  },
  {
   "cell_type": "code",
   "execution_count": null,
   "outputs": [],
   "source": [
    "county = {'County': ['Oslo', 'Innlandet', 'Agder', 'Viken', 'Troms og Finnmark'], #the different county´s\n",
    "        'Number': [66509, 10432, 9441, 78420, 8944], #number of reported cases\n",
    "        'Incidences': [9542, 2814.9, 3056.9, 6261.7, 3693.3]} #number of reported inhabitants rates by 100 000\n",
    "frame = pd.DataFrame(county, columns=['Region', 'County', 'Number', 'Incidences', 'Updated Date'])"
   ],
   "metadata": {
    "collapsed": false,
    "pycharm": {
     "name": "#%%\n"
    }
   }
  },
  {
   "cell_type": "code",
   "execution_count": null,
   "outputs": [],
   "source": [
    "frame['Updated Date'] = '26/11-2021'\n",
    "frame['Region'] = updated['Region']\n",
    "frame.sort_values(['Number', 'Incidences'])\n",
    "#sorted our values so we can have a better overview\n",
    "##displaying our new dataframe for this purpose:"
   ],
   "metadata": {
    "collapsed": false,
    "pycharm": {
     "name": "#%%\n"
    }
   }
  },
  {
   "cell_type": "code",
   "execution_count": null,
   "outputs": [],
   "source": [
    "frame.info() #"
   ],
   "metadata": {
    "collapsed": false,
    "pycharm": {
     "name": "#%%\n"
    }
   }
  },
  {
   "cell_type": "code",
   "execution_count": null,
   "outputs": [],
   "source": [
    "frame.describe()#Summary of the dataset in detail"
   ],
   "metadata": {
    "collapsed": false,
    "pycharm": {
     "name": "#%%\n"
    }
   }
  },
  {
   "cell_type": "markdown",
   "source": [
    "# Covid-19 cases"
   ],
   "metadata": {
    "collapsed": false
   }
  },
  {
   "cell_type": "code",
   "execution_count": null,
   "outputs": [],
   "source": [
    "sns.catplot(x=\"Number\", y=\"County\",\n",
    "            hue=\"Region\",\n",
    "            kind='bar',\n",
    "            data=frame,\n",
    "            alpha=0.8,\n",
    "            palette='magma')\n",
    "plt.xlim(2000, 80000) #setting the x-axes (min)-(max) value\n",
    "plt.title(\"Covid-19 cases\");"
   ],
   "metadata": {
    "collapsed": false,
    "pycharm": {
     "name": "#%%\n"
    }
   }
  },
  {
   "cell_type": "markdown",
   "source": [
    "### Bonus\n",
    "#### To provide a better overview of the age groups throughout the period:"
   ],
   "metadata": {
    "collapsed": false
   }
  },
  {
   "cell_type": "code",
   "execution_count": null,
   "outputs": [],
   "source": [
    "covid = pd.Series(['0 – 17', '18–29', '30–44', '45–54', '55–64', '65–74', '75–84', '>=85'], name='Age Group') #different age groups\n",
    "quantity = pd.Series([109, 284, 1058, 1265, 1171, 980, 818, 345], name='Covid pasients') #covid-19 as the main reason for the whole period\n",
    "intensive = pd.Series([18, 24, 129, 235, 285, 253, 179, 20], name='Intensive care') #pasients in the intensive care unit for the whole period"
   ],
   "metadata": {
    "collapsed": false,
    "pycharm": {
     "name": "#%%\n"
    }
   }
  },
  {
   "cell_type": "code",
   "execution_count": null,
   "outputs": [],
   "source": [
    "frame2 = {'Age Group': covid, 'Covid pasients': quantity, 'Intensive care': intensive}\n",
    "result = pd.DataFrame(frame2)"
   ],
   "metadata": {
    "collapsed": false,
    "pycharm": {
     "name": "#%%\n"
    }
   }
  },
  {
   "cell_type": "code",
   "execution_count": null,
   "outputs": [],
   "source": [
    "result.loc['Total']= result.sum(numeric_only=True, axis=0)\n",
    "result"
   ],
   "metadata": {
    "collapsed": false,
    "pycharm": {
     "name": "#%%\n"
    }
   }
  },
  {
   "cell_type": "markdown",
   "source": [
    "### Covid pasients by age"
   ],
   "metadata": {
    "collapsed": false
   }
  },
  {
   "cell_type": "code",
   "execution_count": null,
   "outputs": [],
   "source": [
    "sns.catplot(x='Age Group',\n",
    "            y='Covid pasients',\n",
    "            data=result,\n",
    "            palette='mako',\n",
    "            kind='bar',\n",
    "            alpha=0.8)\n",
    "\n",
    "sns.lineplot(x='Age Group', y='Intensive care', data=result,color='#C33E3E', linestyle='--', label=\"Intensive care\");"
   ],
   "metadata": {
    "collapsed": false,
    "pycharm": {
     "name": "#%%\n"
    }
   }
  },
  {
   "cell_type": "markdown",
   "source": [
    "#### Intensive care pasients quantity"
   ],
   "metadata": {
    "collapsed": false
   }
  },
  {
   "cell_type": "code",
   "execution_count": null,
   "outputs": [],
   "source": [
    "result = result.assign(Percentage = lambda x: (x['Intensive care'] /x['Covid pasients']  * 100))\n",
    "result[['Age Group', 'Percentage']]"
   ],
   "metadata": {
    "collapsed": false,
    "pycharm": {
     "name": "#%%\n"
    }
   }
  },
  {
   "cell_type": "markdown",
   "source": [
    "### Intensive care pasients percentage"
   ],
   "metadata": {
    "collapsed": false
   }
  },
  {
   "cell_type": "code",
   "execution_count": null,
   "outputs": [],
   "source": [
    "sns.catplot(x='Age Group',\n",
    "            y='Intensive care',\n",
    "            data=result,\n",
    "            palette='mako',\n",
    "            kind='bar');\n",
    "sns.barplot(x='Age Group', y='Percentage', data=result,color='deepskyblue', alpha=0.8);"
   ],
   "metadata": {
    "collapsed": false,
    "pycharm": {
     "name": "#%%\n"
    }
   }
  },
  {
   "cell_type": "markdown",
   "source": [
    "# Conclusion\n",
    "We can quickly see by visualizing which counties, according to statistics of reported cases, intensive care, and groups by age, have been most exposed\n",
    "\n",
    "A interesting subject would be to use this data and more available statistics into dept, predict the outcome, and  also to have a good overview to for example:\n",
    "\n",
    "-Prioritize vaccine\n",
    "\n",
    "-Cover that the hospitals have space and not least control over the patients who are admitted so that they can receive the treatment they may need\n",
    "\n",
    "-Be sure that the patient base per employee is sufficient\n",
    "\n",
    "-Facilitate with new measures for the most vulnerable\n",
    "\n",
    "-Other measures to improve the situation"
   ],
   "metadata": {
    "collapsed": false
   }
  }
 ],
 "metadata": {
  "kernelspec": {
   "display_name": "Python 3",
   "language": "python",
   "name": "python3"
  },
  "language_info": {
   "codemirror_mode": {
    "name": "ipython",
    "version": 2
   },
   "file_extension": ".py",
   "mimetype": "text/x-python",
   "name": "python",
   "nbconvert_exporter": "python",
   "pygments_lexer": "ipython2",
   "version": "2.7.6"
  }
 },
 "nbformat": 4,
 "nbformat_minor": 0
}