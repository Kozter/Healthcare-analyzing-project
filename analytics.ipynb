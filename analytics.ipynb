#%% md

## Create pandas series:

#%%

hospital = pd.Series(['Aker Univercity', 'Rikshospitalet','Ullevål Univercity'], name='Hospital name')
location = pd.Series(['Oslo, Norway', 'Oslo, Norway', 'Oslo, Norway'], name='Major location')
campuses = pd.Series(['Aker', 'Rikshospitalet', 'Ullevål'], name='Main campuses')
descript = pd.Series(
    ['Aker University Hospital was a highly specialized metropolitan hospital and companies had extensive local and central hospital functions and regional functions. Within several areas, the hospital also had the national functions and the competence center.',
                       'Rikshospitalet covers the whole country in various fields, including organ and bone marrow transplants, advanced neurosurgery, and treatment of children with congenital malformations. ',
                    'Ullevål is a Level I trauma center and includes patient treatment, research, teaching and administration activities.'], name='Description')
opened = pd.Series([1895, 1826, 1887], name='Opened')

#%% md

### Concatinate multiple series into frame for a better overview:

#%%

frame = pd.concat([hospital,
                   location,
                   campuses,
                   descript,
                   opened],axis=1)
frame.head()
#%% md

### Choose 16 hospitals and create 16 Series including information:
#### -Making np.arrays out of the information that we´ll convert to a pd.Series below:

#%%

name = np.array(['Aker Univercity',
                 'Rikshospitalet',
                 'Ullevål Univercity',
                 'Elverum Hospital',
                 'Gjøvik Hospital',
                 'Hamar Hospital',
                 'Lillehammer Hospital',
                 'Sørlandet Hospital Arendal',
                 'Sørlandet Hospital Flekkefjord',
                 'Sørlandet Hospital Kristiansand',
                 'Bærum Hospital',
                 'Drammen Hospital',
                 'Kongsberg Hospital',
                 'Ringerike Hospital',
                 'Hammerfest Hospital',
                 'Kirkenes Hospital'
                 ])

#%%

region = np.array(['Oslo',
                   'Oslo',
                   'Oslo',
                   'Innlandet',
                   'Innlandet',
                   'Innlandet',
                   'Innlandet',
                   'Southern Norway',
                   'Southern Norway',
                   'Southern Norway',
                   'Vestre Viken',
                   'Vestre Viken',
                   'Vestre Viken',
                   'Vestre Viken',
                   'Finnmark',
                   'Finnmark'
                    ])

#%%

location = np.array(['Oslo',
                     'Oslo',
                     'Oslo',
                     'Elverum',
                     'Gjøvik',
                     'Hamar',
                     'Lillehammer',
                     'Arendal',
                     'Flekkefjord',
                     'Kristiansand',
                     'Bærum',
                     'Drammen',
                     'Kongsberg',
                     'Ringerike',
                     'Hammerfest',
                     'Kirkenes'
                     ])

#%%

open = np.array([1895,
                 1826,
                 1887,
                 1878,
                 1925,
                 1907,
                 1878,
                 1920,
                 1953,
                 2001,
                 1924,
                 1887,
                 1738,
                 1965,
                 1852,
                 1955,
                   ])

#%% md

### Confirming data type (np.array)

#%%

print(type(name))
print(type(region))
print(type(location))
print(type(open))

#%% md

### Converting np.arrays to pandas (series)

#%%

s = pd.Series(name, name='Name')
s1 = pd.Series(region, name='Region')
s2 = pd.Series(location, name='Location')
s3 = pd.Series(open, name='Opened')

#%% md

### Confirming new data type (pd.Series)

#%%

print(type(s))
print(type(s1))
print(type(s2))
print(type(s3))
#%% md
### Concatinate
#### -We manipulate our data by the concatinate function which adds the pd.series above into to the dataframe

#%%
dataframe = pd.concat([s,
                       s1,
                       s2,
                       s3,
                       ],axis=1)
dataframe
#%% md

#### Generating a list that is to be converted as our new column:

#%%

Reg_Auth = ['Southern and Eastern Norway',
            'Southern and Eastern Norway',
            'Southern and Eastern Norway',
            'Southern and Eastern Norway',
            'Southern and Eastern Norway',
            'Southern and Eastern Norway',
            'Southern and Eastern Norway',
            'Southern and Eastern Norway',
            'Southern and Eastern Norway',
            'Southern and Eastern Norway',
            'Southern and Eastern Norway',
            'Southern and Eastern Norway',
            'Southern and Eastern Norway',
            'Southern and Eastern Norway',
            'Northern Norway',
            'Northern Norway'
            ]
Reg_Auth

#%% md

### Convert our new column including: 'Regional Health Authority'

#%%

#assigning the corresponding values in each row

dataframe['Regional Health Authority'] = Reg_Auth
dataframe
#%% md
#### Remove, clean and transform the data set:

#%%

updated = dataframe.drop(['Name', 'Opened', 'Location', 'Regional Health Authority'],
                         axis=1,
                         inplace=True) #dropping columns not needed

#%%

updated = dataframe['Region'].replace(['Vestre Viken',
                                       'Finnmark'],
                                      ['Viken',
                                       'Troms & Finnmark'], inplace=True)
#Changed our column names

#%%

updated = dataframe.drop_duplicates(ignore_index=True)
#removing duplicates

#%% 

updated #our new temporary dataframe

#%% md

# Interesting problem
### We want to compare the Covid-19 numbers by 5 specific regions

#%% md

##### Making a dictionary to add some new data to our 'updated' dataframe

#%%

county = {'County': ['Oslo', 'Innlandet', 'Agder', 'Viken', 'Troms og Finnmark'], #the different county´s
        'Number': [66509, 10432, 9441, 78420, 8944], #number of reported cases
        'Incidences': [9542, 2814.9, 3056.9, 6261.7, 3693.3]} #number of reported inhabitants rates by 100 000
frame = pd.DataFrame(county, columns=['Region', 'County', 'Number', 'Incidences', 'Updated Date'])

#%%

frame['Updated Date'] = '26/11-2021'
frame['Region'] = updated['Region']
frame.sort_values(['Number', 'Incidences'])
#sorted our values so we can have a better overview
##displaying our new dataframe for this purpose:

#%%

frame.info() #

#%%

frame.describe()#Summary of the dataset in detail

#%% md

# Covid-19 cases

#%%

sns.catplot(x="Number", y="County",
            hue="Region",
            kind='bar',
            data=frame,
            alpha=0.8,
            palette='magma')
plt.xlim(2000, 80000) #setting the x-axes (min)-(max) value
plt.title("Covid-19 cases");

#%% md

### Bonus
#### To provide a better overview of the age groups throughout the period:

#%%

covid = pd.Series(['0 – 17', '18–29', '30–44', '45–54', '55–64', '65–74', '75–84', '>=85'], name='Age Group') #different age groups
quantity = pd.Series([109, 284, 1058, 1265, 1171, 980, 818, 345], name='Covid pasients') #covid-19 as the main reason for the whole period
intensive = pd.Series([18, 24, 129, 235, 285, 253, 179, 20], name='Intensive care') #pasients in the intensive care unit for the whole period

#%%

frame2 = {'Age Group': covid, 'Covid pasients': quantity, 'Intensive care': intensive}
result = pd.DataFrame(frame2)

#%%

result.loc['Total']= result.sum(numeric_only=True, axis=0)
result

#%% md

### Covid pasients by age

#%%

sns.catplot(x='Age Group',
            y='Covid pasients',
            data=result,
            palette='mako',
            kind='bar',
            alpha=0.8)

sns.lineplot(x='Age Group', y='Intensive care', data=result,color='#C33E3E', linestyle='--', label="Intensive care");

#%% md

#### Intensive care pasients quantity

#%%

result = result.assign(Percentage = lambda x: (x['Intensive care'] /x['Covid pasients']  * 100))
result[['Age Group', 'Percentage']]

#%% md

### Intensive care pasients percentage

#%%

sns.catplot(x='Age Group',
            y='Intensive care',
            data=result,
            palette='mako',
            kind='bar');
sns.barplot(x='Age Group', y='Percentage', data=result,color='deepskyblue', alpha=0.8);

#%% md

# Conclusion
We can quickly see by visualizing which counties, according to statistics of reported cases, intensive care, and groups by age, have been most exposed

A interesting subject would be to use this data and more available statistics into dept, predict the outcome, and  also to have a good overview to for example:

-Prioritize vaccine

-Cover that the hospitals have space and not least control over the patients who are admitted so that they can receive the treatment they may need

-Be sure that the patient base per employee is sufficient

-Facilitate with new measures for the most vulnerable

-Other measures to improve the situation
